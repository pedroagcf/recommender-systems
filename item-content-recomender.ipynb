{
 "cells": [
  {
   "cell_type": "code",
   "execution_count": 12,
   "id": "suited-puppy",
   "metadata": {},
   "outputs": [
    {
     "name": "stdout",
     "output_type": "stream",
     "text": [
      "                                     UserID                    Service  \\\n",
      "14475  651fc761-7b29-490c-aefd-fe9b9bdd65c7        AGRANUNCIARPRODUTOS   \n",
      "14476  651fc761-7b29-490c-aefd-fe9b9bdd65c7            AGRAnunCadastro   \n",
      "14477  651fc761-7b29-490c-aefd-fe9b9bdd65c7           AGRFAZERPRODUTOS   \n",
      "14478  651fc761-7b29-490c-aefd-fe9b9bdd65c7           AGRFazerCadastro   \n",
      "14479  651fc761-7b29-490c-aefd-fe9b9bdd65c7      AGRMapaDeInteressados   \n",
      "14480  651fc761-7b29-490c-aefd-fe9b9bdd65c7  CAGDeslocamentodoRegistro   \n",
      "14481  651fc761-7b29-490c-aefd-fe9b9bdd65c7               CAGReligacao   \n",
      "14482  651fc761-7b29-490c-aefd-fe9b9bdd65c7                DET2aviaCNH   \n",
      "14483  651fc761-7b29-490c-aefd-fe9b9bdd65c7           DETCNHDefinitiva   \n",
      "14484  651fc761-7b29-490c-aefd-fe9b9bdd65c7      DETCertidãonadaconsta   \n",
      "14485  651fc761-7b29-490c-aefd-fe9b9bdd65c7            DETRenovacaoCNH   \n",
      "14486  651fc761-7b29-490c-aefd-fe9b9bdd65c7                  PR2VIADAE   \n",
      "14487  651fc761-7b29-490c-aefd-fe9b9bdd65c7        PRCadastrarprodutor   \n",
      "14488  651fc761-7b29-490c-aefd-fe9b9bdd65c7     SUANOTAJaSouCadastrado   \n",
      "14489  651fc761-7b29-490c-aefd-fe9b9bdd65c7    SUANOTAQueroMeCadastrar   \n",
      "14490  651fc761-7b29-490c-aefd-fe9b9bdd65c7            TESTECResultado   \n",
      "\n",
      "       ServiceUseByUser  \n",
      "14475          0.000000  \n",
      "14476          0.000000  \n",
      "14477          0.002732  \n",
      "14478          0.002732  \n",
      "14479          0.000000  \n",
      "14480          0.000000  \n",
      "14481          0.000000  \n",
      "14482          0.000000  \n",
      "14483          0.000000  \n",
      "14484          0.000000  \n",
      "14485          0.000000  \n",
      "14486          0.000000  \n",
      "14487          0.000000  \n",
      "14488          0.008197  \n",
      "14489          0.000000  \n",
      "14490          0.000000  \n",
      "                                     UserID                    Service  \\\n",
      "14475  651fc761-7b29-490c-aefd-fe9b9bdd65c7        AGRANUNCIARPRODUTOS   \n",
      "14476  651fc761-7b29-490c-aefd-fe9b9bdd65c7            AGRAnunCadastro   \n",
      "14477  651fc761-7b29-490c-aefd-fe9b9bdd65c7           AGRFAZERPRODUTOS   \n",
      "14478  651fc761-7b29-490c-aefd-fe9b9bdd65c7           AGRFazerCadastro   \n",
      "14479  651fc761-7b29-490c-aefd-fe9b9bdd65c7      AGRMapaDeInteressados   \n",
      "14480  651fc761-7b29-490c-aefd-fe9b9bdd65c7  CAGDeslocamentodoRegistro   \n",
      "14481  651fc761-7b29-490c-aefd-fe9b9bdd65c7               CAGReligacao   \n",
      "14482  651fc761-7b29-490c-aefd-fe9b9bdd65c7                DET2aviaCNH   \n",
      "14483  651fc761-7b29-490c-aefd-fe9b9bdd65c7           DETCNHDefinitiva   \n",
      "14484  651fc761-7b29-490c-aefd-fe9b9bdd65c7      DETCertidãonadaconsta   \n",
      "14485  651fc761-7b29-490c-aefd-fe9b9bdd65c7            DETRenovacaoCNH   \n",
      "14486  651fc761-7b29-490c-aefd-fe9b9bdd65c7                  PR2VIADAE   \n",
      "14487  651fc761-7b29-490c-aefd-fe9b9bdd65c7        PRCadastrarprodutor   \n",
      "\n",
      "       ServiceUseByUser  \n",
      "14475          0.000000  \n",
      "14476          0.000000  \n",
      "14477          0.002732  \n",
      "14478          0.002732  \n",
      "14479          0.000000  \n",
      "14480          0.000000  \n",
      "14481          0.000000  \n",
      "14482          0.000000  \n",
      "14483          0.000000  \n",
      "14484          0.000000  \n",
      "14485          0.000000  \n",
      "14486          0.000000  \n",
      "14487          0.000000  \n",
      "Applying transform:\n",
      "Class             : AutoVectorizer\n",
      "\n",
      "Model Fields\n",
      "------------\n",
      "Features          : ['UserID', 'ServiceUseByUser']\n",
      "Excluded Features : ['Service']\n",
      "\n",
      "Column            Type   Interpretation  Transforms  Output Type\n",
      "----------------  -----  --------------  ----------  -----------\n",
      "UserID            str    categorical     None        str        \n",
      "ServiceUseByUser  float  numerical       None        float      \n",
      "\n",
      "\n",
      "Defaulting to brute force instead of ball tree because there are multiple distance components.\n"
     ]
    },
    {
     "data": {
      "text/html": [
       "<pre>Starting brute force nearest neighbors model training.</pre>"
      ],
      "text/plain": [
       "Starting brute force nearest neighbors model training."
      ]
     },
     "metadata": {},
     "output_type": "display_data"
    },
    {
     "data": {
      "text/html": [
       "<pre>Validating distance components.</pre>"
      ],
      "text/plain": [
       "Validating distance components."
      ]
     },
     "metadata": {},
     "output_type": "display_data"
    },
    {
     "data": {
      "text/html": [
       "<pre>Initializing model data.</pre>"
      ],
      "text/plain": [
       "Initializing model data."
      ]
     },
     "metadata": {},
     "output_type": "display_data"
    },
    {
     "data": {
      "text/html": [
       "<pre>Initializing distances.</pre>"
      ],
      "text/plain": [
       "Initializing distances."
      ]
     },
     "metadata": {},
     "output_type": "display_data"
    },
    {
     "data": {
      "text/html": [
       "<pre>Done.</pre>"
      ],
      "text/plain": [
       "Done."
      ]
     },
     "metadata": {},
     "output_type": "display_data"
    },
    {
     "data": {
      "text/html": [
       "<pre>Starting pairwise querying.</pre>"
      ],
      "text/plain": [
       "Starting pairwise querying."
      ]
     },
     "metadata": {},
     "output_type": "display_data"
    },
    {
     "data": {
      "text/html": [
       "<pre>+--------------+---------+-------------+--------------+</pre>"
      ],
      "text/plain": [
       "+--------------+---------+-------------+--------------+"
      ]
     },
     "metadata": {},
     "output_type": "display_data"
    },
    {
     "data": {
      "text/html": [
       "<pre>| Query points | # Pairs | % Complete. | Elapsed Time |</pre>"
      ],
      "text/plain": [
       "| Query points | # Pairs | % Complete. | Elapsed Time |"
      ]
     },
     "metadata": {},
     "output_type": "display_data"
    },
    {
     "data": {
      "text/html": [
       "<pre>+--------------+---------+-------------+--------------+</pre>"
      ],
      "text/plain": [
       "+--------------+---------+-------------+--------------+"
      ]
     },
     "metadata": {},
     "output_type": "display_data"
    },
    {
     "data": {
      "text/html": [
       "<pre>| 1            | 36143   | 0.00276679  | 47.946ms     |</pre>"
      ],
      "text/plain": [
       "| 1            | 36143   | 0.00276679  | 47.946ms     |"
      ]
     },
     "metadata": {},
     "output_type": "display_data"
    },
    {
     "data": {
      "text/html": [
       "<pre>| 570          | 2.1e+07 | 1.57707     | 3.05s        |</pre>"
      ],
      "text/plain": [
       "| 570          | 2.1e+07 | 1.57707     | 3.05s        |"
      ]
     },
     "metadata": {},
     "output_type": "display_data"
    },
    {
     "data": {
      "text/html": [
       "<pre>| 1286         | 4.6e+07 | 3.55809     | 6.04s        |</pre>"
      ],
      "text/plain": [
       "| 1286         | 4.6e+07 | 3.55809     | 6.04s        |"
      ]
     },
     "metadata": {},
     "output_type": "display_data"
    },
    {
     "data": {
      "text/html": [
       "<pre>| 2182         | 7.9e+07 | 6.03713     | 9.05s        |</pre>"
      ],
      "text/plain": [
       "| 2182         | 7.9e+07 | 6.03713     | 9.05s        |"
      ]
     },
     "metadata": {},
     "output_type": "display_data"
    },
    {
     "data": {
      "text/html": [
       "<pre>| 2642         | 9.5e+07 | 7.30985     | 12.06s       |</pre>"
      ],
      "text/plain": [
       "| 2642         | 9.5e+07 | 7.30985     | 12.06s       |"
      ]
     },
     "metadata": {},
     "output_type": "display_data"
    },
    {
     "data": {
      "text/html": [
       "<pre>| 2977         | 1.1e+08 | 8.23673     | 15.06s       |</pre>"
      ],
      "text/plain": [
       "| 2977         | 1.1e+08 | 8.23673     | 15.06s       |"
      ]
     },
     "metadata": {},
     "output_type": "display_data"
    },
    {
     "data": {
      "text/html": [
       "<pre>| 3415         | 1.2e+08 | 9.44858     | 18.05s       |</pre>"
      ],
      "text/plain": [
       "| 3415         | 1.2e+08 | 9.44858     | 18.05s       |"
      ]
     },
     "metadata": {},
     "output_type": "display_data"
    },
    {
     "data": {
      "text/html": [
       "<pre>| 4302         | 1.6e+08 | 11.9027     | 21.05s       |</pre>"
      ],
      "text/plain": [
       "| 4302         | 1.6e+08 | 11.9027     | 21.05s       |"
      ]
     },
     "metadata": {},
     "output_type": "display_data"
    },
    {
     "data": {
      "text/html": [
       "<pre>| 4985         | 1.8e+08 | 13.7924     | 24.05s       |</pre>"
      ],
      "text/plain": [
       "| 4985         | 1.8e+08 | 13.7924     | 24.05s       |"
      ]
     },
     "metadata": {},
     "output_type": "display_data"
    },
    {
     "data": {
      "text/html": [
       "<pre>| 5735         | 2.1e+08 | 15.8675     | 27.05s       |</pre>"
      ],
      "text/plain": [
       "| 5735         | 2.1e+08 | 15.8675     | 27.05s       |"
      ]
     },
     "metadata": {},
     "output_type": "display_data"
    },
    {
     "data": {
      "text/html": [
       "<pre>| 6579         | 2.4e+08 | 18.2027     | 30.06s       |</pre>"
      ],
      "text/plain": [
       "| 6579         | 2.4e+08 | 18.2027     | 30.06s       |"
      ]
     },
     "metadata": {},
     "output_type": "display_data"
    },
    {
     "data": {
      "text/html": [
       "<pre>| 7213         | 2.6e+08 | 19.9568     | 33.06s       |</pre>"
      ],
      "text/plain": [
       "| 7213         | 2.6e+08 | 19.9568     | 33.06s       |"
      ]
     },
     "metadata": {},
     "output_type": "display_data"
    },
    {
     "data": {
      "text/html": [
       "<pre>| 7926         | 2.9e+08 | 21.9296     | 36.06s       |</pre>"
      ],
      "text/plain": [
       "| 7926         | 2.9e+08 | 21.9296     | 36.06s       |"
      ]
     },
     "metadata": {},
     "output_type": "display_data"
    },
    {
     "data": {
      "text/html": [
       "<pre>| 8566         | 3.1e+08 | 23.7003     | 39.06s       |</pre>"
      ],
      "text/plain": [
       "| 8566         | 3.1e+08 | 23.7003     | 39.06s       |"
      ]
     },
     "metadata": {},
     "output_type": "display_data"
    },
    {
     "data": {
      "text/html": [
       "<pre>| 9309         | 3.4e+08 | 25.756      | 42.06s       |</pre>"
      ],
      "text/plain": [
       "| 9309         | 3.4e+08 | 25.756      | 42.06s       |"
      ]
     },
     "metadata": {},
     "output_type": "display_data"
    },
    {
     "data": {
      "text/html": [
       "<pre>| 9627         | 3.5e+08 | 26.6359     | 45.06s       |</pre>"
      ],
      "text/plain": [
       "| 9627         | 3.5e+08 | 26.6359     | 45.06s       |"
      ]
     },
     "metadata": {},
     "output_type": "display_data"
    },
    {
     "data": {
      "text/html": [
       "<pre>| 10009        | 3.6e+08 | 27.6928     | 48.06s       |</pre>"
      ],
      "text/plain": [
       "| 10009        | 3.6e+08 | 27.6928     | 48.06s       |"
      ]
     },
     "metadata": {},
     "output_type": "display_data"
    },
    {
     "data": {
      "text/html": [
       "<pre>| 10419        | 3.8e+08 | 28.8272     | 51.06s       |</pre>"
      ],
      "text/plain": [
       "| 10419        | 3.8e+08 | 28.8272     | 51.06s       |"
      ]
     },
     "metadata": {},
     "output_type": "display_data"
    },
    {
     "data": {
      "text/html": [
       "<pre>| 11328        | 4.1e+08 | 31.3422     | 54.06s       |</pre>"
      ],
      "text/plain": [
       "| 11328        | 4.1e+08 | 31.3422     | 54.06s       |"
      ]
     },
     "metadata": {},
     "output_type": "display_data"
    },
    {
     "data": {
      "text/html": [
       "<pre>| 12148        | 4.4e+08 | 33.6109     | 57.06s       |</pre>"
      ],
      "text/plain": [
       "| 12148        | 4.4e+08 | 33.6109     | 57.06s       |"
      ]
     },
     "metadata": {},
     "output_type": "display_data"
    },
    {
     "data": {
      "text/html": [
       "<pre>| 13097        | 4.7e+08 | 36.2366     | 1m 0s        |</pre>"
      ],
      "text/plain": [
       "| 13097        | 4.7e+08 | 36.2366     | 1m 0s        |"
      ]
     },
     "metadata": {},
     "output_type": "display_data"
    },
    {
     "data": {
      "text/html": [
       "<pre>| 13991        | 5.1e+08 | 38.7101     | 1m 3s        |</pre>"
      ],
      "text/plain": [
       "| 13991        | 5.1e+08 | 38.7101     | 1m 3s        |"
      ]
     },
     "metadata": {},
     "output_type": "display_data"
    },
    {
     "data": {
      "text/html": [
       "<pre>| 14896        | 5.4e+08 | 41.2141     | 1m 6s        |</pre>"
      ],
      "text/plain": [
       "| 14896        | 5.4e+08 | 41.2141     | 1m 6s        |"
      ]
     },
     "metadata": {},
     "output_type": "display_data"
    },
    {
     "data": {
      "text/html": [
       "<pre>| 15793        | 5.7e+08 | 43.6959     | 1m 9s        |</pre>"
      ],
      "text/plain": [
       "| 15793        | 5.7e+08 | 43.6959     | 1m 9s        |"
      ]
     },
     "metadata": {},
     "output_type": "display_data"
    },
    {
     "data": {
      "text/html": [
       "<pre>| 16729        | 6e+08   | 46.2856     | 1m 12s       |</pre>"
      ],
      "text/plain": [
       "| 16729        | 6e+08   | 46.2856     | 1m 12s       |"
      ]
     },
     "metadata": {},
     "output_type": "display_data"
    },
    {
     "data": {
      "text/html": [
       "<pre>| 17678        | 6.4e+08 | 48.9113     | 1m 15s       |</pre>"
      ],
      "text/plain": [
       "| 17678        | 6.4e+08 | 48.9113     | 1m 15s       |"
      ]
     },
     "metadata": {},
     "output_type": "display_data"
    },
    {
     "data": {
      "text/html": [
       "<pre>| 18654        | 6.7e+08 | 51.6117     | 1m 18s       |</pre>"
      ],
      "text/plain": [
       "| 18654        | 6.7e+08 | 51.6117     | 1m 18s       |"
      ]
     },
     "metadata": {},
     "output_type": "display_data"
    },
    {
     "data": {
      "text/html": [
       "<pre>| 19618        | 7.1e+08 | 54.2788     | 1m 21s       |</pre>"
      ],
      "text/plain": [
       "| 19618        | 7.1e+08 | 54.2788     | 1m 21s       |"
      ]
     },
     "metadata": {},
     "output_type": "display_data"
    },
    {
     "data": {
      "text/html": [
       "<pre>| 20515        | 7.4e+08 | 56.7606     | 1m 24s       |</pre>"
      ],
      "text/plain": [
       "| 20515        | 7.4e+08 | 56.7606     | 1m 24s       |"
      ]
     },
     "metadata": {},
     "output_type": "display_data"
    },
    {
     "data": {
      "text/html": [
       "<pre>| 21457        | 7.8e+08 | 59.367      | 1m 27s       |</pre>"
      ],
      "text/plain": [
       "| 21457        | 7.8e+08 | 59.367      | 1m 27s       |"
      ]
     },
     "metadata": {},
     "output_type": "display_data"
    },
    {
     "data": {
      "text/html": [
       "<pre>| 22212        | 8e+08   | 61.4559     | 1m 30s       |</pre>"
      ],
      "text/plain": [
       "| 22212        | 8e+08   | 61.4559     | 1m 30s       |"
      ]
     },
     "metadata": {},
     "output_type": "display_data"
    },
    {
     "data": {
      "text/html": [
       "<pre>| 23061        | 8.3e+08 | 63.8049     | 1m 33s       |</pre>"
      ],
      "text/plain": [
       "| 23061        | 8.3e+08 | 63.8049     | 1m 33s       |"
      ]
     },
     "metadata": {},
     "output_type": "display_data"
    },
    {
     "data": {
      "text/html": [
       "<pre>| 23919        | 8.6e+08 | 66.1788     | 1m 36s       |</pre>"
      ],
      "text/plain": [
       "| 23919        | 8.6e+08 | 66.1788     | 1m 36s       |"
      ]
     },
     "metadata": {},
     "output_type": "display_data"
    },
    {
     "data": {
      "text/html": [
       "<pre>| 24547        | 8.9e+08 | 67.9163     | 1m 39s       |</pre>"
      ],
      "text/plain": [
       "| 24547        | 8.9e+08 | 67.9163     | 1m 39s       |"
      ]
     },
     "metadata": {},
     "output_type": "display_data"
    },
    {
     "data": {
      "text/html": [
       "<pre>| 25192        | 9.1e+08 | 69.7009     | 1m 42s       |</pre>"
      ],
      "text/plain": [
       "| 25192        | 9.1e+08 | 69.7009     | 1m 42s       |"
      ]
     },
     "metadata": {},
     "output_type": "display_data"
    },
    {
     "data": {
      "text/html": [
       "<pre>| 25980        | 9.4e+08 | 71.8811     | 1m 45s       |</pre>"
      ],
      "text/plain": [
       "| 25980        | 9.4e+08 | 71.8811     | 1m 45s       |"
      ]
     },
     "metadata": {},
     "output_type": "display_data"
    },
    {
     "data": {
      "text/html": [
       "<pre>| 26814        | 9.7e+08 | 74.1886     | 1m 48s       |</pre>"
      ],
      "text/plain": [
       "| 26814        | 9.7e+08 | 74.1886     | 1m 48s       |"
      ]
     },
     "metadata": {},
     "output_type": "display_data"
    },
    {
     "data": {
      "text/html": [
       "<pre>| 27320        | 9.9e+08 | 75.5886     | 1m 51s       |</pre>"
      ],
      "text/plain": [
       "| 27320        | 9.9e+08 | 75.5886     | 1m 51s       |"
      ]
     },
     "metadata": {},
     "output_type": "display_data"
    },
    {
     "data": {
      "text/html": [
       "<pre>| 28158        | 1e+09   | 77.9072     | 1m 54s       |</pre>"
      ],
      "text/plain": [
       "| 28158        | 1e+09   | 77.9072     | 1m 54s       |"
      ]
     },
     "metadata": {},
     "output_type": "display_data"
    },
    {
     "data": {
      "text/html": [
       "<pre>| 28729        | 1e+09   | 79.487      | 1m 57s       |</pre>"
      ],
      "text/plain": [
       "| 28729        | 1e+09   | 79.487      | 1m 57s       |"
      ]
     },
     "metadata": {},
     "output_type": "display_data"
    },
    {
     "data": {
      "text/html": [
       "<pre>| 29083        | 1.1e+09 | 80.4665     | 2m 0s        |</pre>"
      ],
      "text/plain": [
       "| 29083        | 1.1e+09 | 80.4665     | 2m 0s        |"
      ]
     },
     "metadata": {},
     "output_type": "display_data"
    },
    {
     "data": {
      "text/html": [
       "<pre>| 29645        | 1.1e+09 | 82.0214     | 2m 3s        |</pre>"
      ],
      "text/plain": [
       "| 29645        | 1.1e+09 | 82.0214     | 2m 3s        |"
      ]
     },
     "metadata": {},
     "output_type": "display_data"
    },
    {
     "data": {
      "text/html": [
       "<pre>| 30044        | 1.1e+09 | 83.1254     | 2m 6s        |</pre>"
      ],
      "text/plain": [
       "| 30044        | 1.1e+09 | 83.1254     | 2m 6s        |"
      ]
     },
     "metadata": {},
     "output_type": "display_data"
    },
    {
     "data": {
      "text/html": [
       "<pre>| 30429        |         | 84.1906     | 2m 9s        |</pre>"
      ],
      "text/plain": [
       "| 30429        |         | 84.1906     | 2m 9s        |"
      ]
     },
     "metadata": {},
     "output_type": "display_data"
    },
    {
     "data": {
      "text/html": [
       "<pre>| 30915        | 1.1e+09 | 85.5352     | 2m 12s       |</pre>"
      ],
      "text/plain": [
       "| 30915        | 1.1e+09 | 85.5352     | 2m 12s       |"
      ]
     },
     "metadata": {},
     "output_type": "display_data"
    },
    {
     "data": {
      "text/html": [
       "<pre>| 31837        | 1.2e+09 | 88.0862     | 2m 15s       |</pre>"
      ],
      "text/plain": [
       "| 31837        | 1.2e+09 | 88.0862     | 2m 15s       |"
      ]
     },
     "metadata": {},
     "output_type": "display_data"
    },
    {
     "data": {
      "text/html": [
       "<pre>| 32182        | 1.2e+09 | 89.0408     | 2m 18s       |</pre>"
      ],
      "text/plain": [
       "| 32182        | 1.2e+09 | 89.0408     | 2m 18s       |"
      ]
     },
     "metadata": {},
     "output_type": "display_data"
    },
    {
     "data": {
      "text/html": [
       "<pre>| 32614        | 1.2e+09 | 90.236      | 2m 21s       |</pre>"
      ],
      "text/plain": [
       "| 32614        | 1.2e+09 | 90.236      | 2m 21s       |"
      ]
     },
     "metadata": {},
     "output_type": "display_data"
    },
    {
     "data": {
      "text/html": [
       "<pre>| 33161        | 1.2e+09 | 91.7494     | 2m 24s       |</pre>"
      ],
      "text/plain": [
       "| 33161        | 1.2e+09 | 91.7494     | 2m 24s       |"
      ]
     },
     "metadata": {},
     "output_type": "display_data"
    },
    {
     "data": {
      "text/html": [
       "<pre>| 33586        | 1.2e+09 | 92.9253     | 2m 27s       |</pre>"
      ],
      "text/plain": [
       "| 33586        | 1.2e+09 | 92.9253     | 2m 27s       |"
      ]
     },
     "metadata": {},
     "output_type": "display_data"
    },
    {
     "data": {
      "text/html": [
       "<pre>| 33870        | 1.2e+09 | 93.7111     | 2m 30s       |</pre>"
      ],
      "text/plain": [
       "| 33870        | 1.2e+09 | 93.7111     | 2m 30s       |"
      ]
     },
     "metadata": {},
     "output_type": "display_data"
    },
    {
     "data": {
      "text/html": [
       "<pre>| 34208        | 1.2e+09 | 94.6463     | 2m 33s       |</pre>"
      ],
      "text/plain": [
       "| 34208        | 1.2e+09 | 94.6463     | 2m 33s       |"
      ]
     },
     "metadata": {},
     "output_type": "display_data"
    },
    {
     "data": {
      "text/html": [
       "<pre>| 34837        | 1.3e+09 | 96.3866     | 2m 36s       |</pre>"
      ],
      "text/plain": [
       "| 34837        | 1.3e+09 | 96.3866     | 2m 36s       |"
      ]
     },
     "metadata": {},
     "output_type": "display_data"
    },
    {
     "data": {
      "text/html": [
       "<pre>| 35536        | 1.3e+09 | 98.3206     | 2m 39s       |</pre>"
      ],
      "text/plain": [
       "| 35536        | 1.3e+09 | 98.3206     | 2m 39s       |"
      ]
     },
     "metadata": {},
     "output_type": "display_data"
    },
    {
     "data": {
      "text/html": [
       "<pre>| 35966        |         | 99.5103     | 2m 42s       |</pre>"
      ],
      "text/plain": [
       "| 35966        |         | 99.5103     | 2m 42s       |"
      ]
     },
     "metadata": {},
     "output_type": "display_data"
    },
    {
     "data": {
      "text/html": [
       "<pre>| Done         |         | 100         | 2m 42s       |</pre>"
      ],
      "text/plain": [
       "| Done         |         | 100         | 2m 42s       |"
      ]
     },
     "metadata": {},
     "output_type": "display_data"
    },
    {
     "data": {
      "text/html": [
       "<pre>+--------------+---------+-------------+--------------+</pre>"
      ],
      "text/plain": [
       "+--------------+---------+-------------+--------------+"
      ]
     },
     "metadata": {},
     "output_type": "display_data"
    },
    {
     "data": {
      "text/html": [
       "<pre>Preparing data set.</pre>"
      ],
      "text/plain": [
       "Preparing data set."
      ]
     },
     "metadata": {},
     "output_type": "display_data"
    },
    {
     "data": {
      "text/html": [
       "<pre>    Data has 36143 observations with 22181 users and 48 items.</pre>"
      ],
      "text/plain": [
       "    Data has 36143 observations with 22181 users and 48 items."
      ]
     },
     "metadata": {},
     "output_type": "display_data"
    },
    {
     "data": {
      "text/html": [
       "<pre>    Data prepared in: 2.18035s</pre>"
      ],
      "text/plain": [
       "    Data prepared in: 2.18035s"
      ]
     },
     "metadata": {},
     "output_type": "display_data"
    },
    {
     "data": {
      "text/html": [
       "<pre>Loading user-provided nearest items.</pre>"
      ],
      "text/plain": [
       "Loading user-provided nearest items."
      ]
     },
     "metadata": {},
     "output_type": "display_data"
    },
    {
     "data": {
      "text/html": [
       "<pre>Generating candidate set for working with new users.</pre>"
      ],
      "text/plain": [
       "Generating candidate set for working with new users."
      ]
     },
     "metadata": {},
     "output_type": "display_data"
    },
    {
     "data": {
      "text/html": [
       "<pre>Finished training in 0.12343s</pre>"
      ],
      "text/plain": [
       "Finished training in 0.12343s"
      ]
     },
     "metadata": {},
     "output_type": "display_data"
    }
   ],
   "source": [
    "import pandas as pd\n",
    "import numpy as np\n",
    "import turicreate as tc\n",
    "from sklearn.preprocessing import MinMaxScaler\n",
    "\n",
    "##############################################\n",
    "# Modelo baseado em conteúdo\n",
    "##############################################\n",
    "\n",
    "df = pd.read_csv(r'database.csv', delimiter=';')\n",
    "df.head()\n",
    "\n",
    "# Renovando a base de dados original\n",
    "userServiceData = df[['Advertising ID', 'Event Name']]\n",
    "userServiceDf = userServiceData.groupby(['Advertising ID','Event Name']).size().reset_index(name='ServiceUseByUser')\n",
    "userServiceDf = userServiceDf.rename(columns={\"Advertising ID\": \"UserID\", \"Event Name\": \"Service\"})\n",
    "\n",
    "# Scale ServiceUseByUser attribute\n",
    "scaler = MinMaxScaler()\n",
    "userServiceCountScaledDf = userServiceDf\n",
    "userServiceCountScaledDf['ServiceUseByUser'] = pd.DataFrame(scaler.fit_transform(userServiceDf[['ServiceUseByUser']]))\n",
    "userServiceCountScaledDf\n",
    "\n",
    "# Escolhendo quais usuários possuem mais uso de Serviços distintos\n",
    "# list = []\n",
    "\n",
    "# for userId in userServiceDf['UserID']:\n",
    "#     if(len(userServiceDf.loc[userServiceDf['UserID'] == userId]) > 15):\n",
    "#         list.append(userId)\n",
    "\n",
    "# Separando eventos do usuário\n",
    "userServiceCountScaledDf.loc[userServiceCountScaledDf['UserID'] == '651fc761-7b29-490c-aefd-fe9b9bdd65c7']\n",
    "\n",
    "\n",
    "# Removendo os 3 últimos usos do Usuário antes de criar o modelo\n",
    "print(userServiceCountScaledDf.loc[userServiceCountScaledDf['UserID'] == '651fc761-7b29-490c-aefd-fe9b9bdd65c7'])\n",
    "userServiceCountScaledDf = userServiceCountScaledDf.drop(index=[14488,14489,14490], axis=0)\n",
    "print(userServiceCountScaledDf.loc[userServiceCountScaledDf['UserID'] == '651fc761-7b29-490c-aefd-fe9b9bdd65c7'])\n",
    "\n",
    "# Criar modelo de recomendaçao baseado em conteudo\n",
    "userServiceCountScaledSFrame = tc.SFrame(userServiceCountScaledDf)\n",
    "\n",
    "item_content_recommender = tc.recommender.item_content_recommender.create(item_data=userServiceCountScaledSFrame, item_id='Service', observation_data=userServiceCountScaledSFrame, user_id='UserID', target='ServiceUseByUser', verbose = True)\n",
    "#https://apple.github.io/turicreate/docs/api/generated/turicreate.recommender.create.html#turicreate.recommender.create\n"
   ]
  },
  {
   "cell_type": "code",
   "execution_count": 13,
   "id": "superb-afghanistan",
   "metadata": {
    "scrolled": true
   },
   "outputs": [
    {
     "data": {
      "text/html": [
       "<div style=\"max-height:1000px;max-width:1500px;overflow:auto;\"><table frame=\"box\" rules=\"cols\">\n",
       "    <tr>\n",
       "        <th style=\"padding-left: 1em; padding-right: 1em; text-align: center\">UserID</th>\n",
       "        <th style=\"padding-left: 1em; padding-right: 1em; text-align: center\">Service</th>\n",
       "        <th style=\"padding-left: 1em; padding-right: 1em; text-align: center\">score</th>\n",
       "        <th style=\"padding-left: 1em; padding-right: 1em; text-align: center\">rank</th>\n",
       "    </tr>\n",
       "    <tr>\n",
       "        <td style=\"padding-left: 1em; padding-right: 1em; text-align: center; vertical-align: top\">651fc761-7b29-490c-aefd-<br>fe9b9bdd65c7 ...</td>\n",
       "        <td style=\"padding-left: 1em; padding-right: 1em; text-align: center; vertical-align: top\">TESTECAgendar</td>\n",
       "        <td style=\"padding-left: 1em; padding-right: 1em; text-align: center; vertical-align: top\">0.0018915029672475962</td>\n",
       "        <td style=\"padding-left: 1em; padding-right: 1em; text-align: center; vertical-align: top\">1</td>\n",
       "    </tr>\n",
       "    <tr>\n",
       "        <td style=\"padding-left: 1em; padding-right: 1em; text-align: center; vertical-align: top\">651fc761-7b29-490c-aefd-<br>fe9b9bdd65c7 ...</td>\n",
       "        <td style=\"padding-left: 1em; padding-right: 1em; text-align: center; vertical-align: top\">TESTECResultado</td>\n",
       "        <td style=\"padding-left: 1em; padding-right: 1em; text-align: center; vertical-align: top\">0.001260995864868164</td>\n",
       "        <td style=\"padding-left: 1em; padding-right: 1em; text-align: center; vertical-align: top\">2</td>\n",
       "    </tr>\n",
       "    <tr>\n",
       "        <td style=\"padding-left: 1em; padding-right: 1em; text-align: center; vertical-align: top\">651fc761-7b29-490c-aefd-<br>fe9b9bdd65c7 ...</td>\n",
       "        <td style=\"padding-left: 1em; padding-right: 1em; text-align: center; vertical-align: top\">SUANOTASaibaMais</td>\n",
       "        <td style=\"padding-left: 1em; padding-right: 1em; text-align: center; vertical-align: top\">0.0008406639099121094</td>\n",
       "        <td style=\"padding-left: 1em; padding-right: 1em; text-align: center; vertical-align: top\">3</td>\n",
       "    </tr>\n",
       "    <tr>\n",
       "        <td style=\"padding-left: 1em; padding-right: 1em; text-align: center; vertical-align: top\">651fc761-7b29-490c-aefd-<br>fe9b9bdd65c7 ...</td>\n",
       "        <td style=\"padding-left: 1em; padding-right: 1em; text-align: center; vertical-align: top\">SUANOTAQueroMeCadastrar</td>\n",
       "        <td style=\"padding-left: 1em; padding-right: 1em; text-align: center; vertical-align: top\">0.0008406639099121094</td>\n",
       "        <td style=\"padding-left: 1em; padding-right: 1em; text-align: center; vertical-align: top\">4</td>\n",
       "    </tr>\n",
       "    <tr>\n",
       "        <td style=\"padding-left: 1em; padding-right: 1em; text-align: center; vertical-align: top\">651fc761-7b29-490c-aefd-<br>fe9b9bdd65c7 ...</td>\n",
       "        <td style=\"padding-left: 1em; padding-right: 1em; text-align: center; vertical-align: top\">SUANOTAJaSouCadastrado</td>\n",
       "        <td style=\"padding-left: 1em; padding-right: 1em; text-align: center; vertical-align: top\">0.0008406639099121094</td>\n",
       "        <td style=\"padding-left: 1em; padding-right: 1em; text-align: center; vertical-align: top\">5</td>\n",
       "    </tr>\n",
       "    <tr>\n",
       "        <td style=\"padding-left: 1em; padding-right: 1em; text-align: center; vertical-align: top\">651fc761-7b29-490c-aefd-<br>fe9b9bdd65c7 ...</td>\n",
       "        <td style=\"padding-left: 1em; padding-right: 1em; text-align: center; vertical-align: top\">CAGFaturaDigital</td>\n",
       "        <td style=\"padding-left: 1em; padding-right: 1em; text-align: center; vertical-align: top\">0.0006305071023794321</td>\n",
       "        <td style=\"padding-left: 1em; padding-right: 1em; text-align: center; vertical-align: top\">6</td>\n",
       "    </tr>\n",
       "    <tr>\n",
       "        <td style=\"padding-left: 1em; padding-right: 1em; text-align: center; vertical-align: top\">651fc761-7b29-490c-aefd-<br>fe9b9bdd65c7 ...</td>\n",
       "        <td style=\"padding-left: 1em; padding-right: 1em; text-align: center; vertical-align: top\">ACESSOJaSouCadastrado</td>\n",
       "        <td style=\"padding-left: 1em; padding-right: 1em; text-align: center; vertical-align: top\">0.000630497932434082</td>\n",
       "        <td style=\"padding-left: 1em; padding-right: 1em; text-align: center; vertical-align: top\">7</td>\n",
       "    </tr>\n",
       "    <tr>\n",
       "        <td style=\"padding-left: 1em; padding-right: 1em; text-align: center; vertical-align: top\">651fc761-7b29-490c-aefd-<br>fe9b9bdd65c7 ...</td>\n",
       "        <td style=\"padding-left: 1em; padding-right: 1em; text-align: center; vertical-align: top\">PRDeclaracaoVacinacao</td>\n",
       "        <td style=\"padding-left: 1em; padding-right: 1em; text-align: center; vertical-align: top\">0.0003293202473567082</td>\n",
       "        <td style=\"padding-left: 1em; padding-right: 1em; text-align: center; vertical-align: top\">8</td>\n",
       "    </tr>\n",
       "    <tr>\n",
       "        <td style=\"padding-left: 1em; padding-right: 1em; text-align: center; vertical-align: top\">651fc761-7b29-490c-aefd-<br>fe9b9bdd65c7 ...</td>\n",
       "        <td style=\"padding-left: 1em; padding-right: 1em; text-align: center; vertical-align: top\">ACESSOQueroMeCadastrar</td>\n",
       "        <td style=\"padding-left: 1em; padding-right: 1em; text-align: center; vertical-align: top\">0.00021016597747802734</td>\n",
       "        <td style=\"padding-left: 1em; padding-right: 1em; text-align: center; vertical-align: top\">9</td>\n",
       "    </tr>\n",
       "    <tr>\n",
       "        <td style=\"padding-left: 1em; padding-right: 1em; text-align: center; vertical-align: top\">651fc761-7b29-490c-aefd-<br>fe9b9bdd65c7 ...</td>\n",
       "        <td style=\"padding-left: 1em; padding-right: 1em; text-align: center; vertical-align: top\">CAGParcelamentodeConta</td>\n",
       "        <td style=\"padding-left: 1em; padding-right: 1em; text-align: center; vertical-align: top\">0.00021016597747802734</td>\n",
       "        <td style=\"padding-left: 1em; padding-right: 1em; text-align: center; vertical-align: top\">10</td>\n",
       "    </tr>\n",
       "</table>\n",
       "[10 rows x 4 columns]<br/>\n",
       "</div>"
      ],
      "text/plain": [
       "Columns:\n",
       "\tUserID\tstr\n",
       "\tService\tstr\n",
       "\tscore\tfloat\n",
       "\trank\tint\n",
       "\n",
       "Rows: 10\n",
       "\n",
       "Data:\n",
       "+-------------------------------+-------------------------+\n",
       "|             UserID            |         Service         |\n",
       "+-------------------------------+-------------------------+\n",
       "| 651fc761-7b29-490c-aefd-fe... |      TESTECAgendar      |\n",
       "| 651fc761-7b29-490c-aefd-fe... |     TESTECResultado     |\n",
       "| 651fc761-7b29-490c-aefd-fe... |     SUANOTASaibaMais    |\n",
       "| 651fc761-7b29-490c-aefd-fe... | SUANOTAQueroMeCadastrar |\n",
       "| 651fc761-7b29-490c-aefd-fe... |  SUANOTAJaSouCadastrado |\n",
       "| 651fc761-7b29-490c-aefd-fe... |     CAGFaturaDigital    |\n",
       "| 651fc761-7b29-490c-aefd-fe... |  ACESSOJaSouCadastrado  |\n",
       "| 651fc761-7b29-490c-aefd-fe... |  PRDeclaracaoVacinacao  |\n",
       "| 651fc761-7b29-490c-aefd-fe... |  ACESSOQueroMeCadastrar |\n",
       "| 651fc761-7b29-490c-aefd-fe... |  CAGParcelamentodeConta |\n",
       "+-------------------------------+-------------------------+\n",
       "+------------------------+------+\n",
       "|         score          | rank |\n",
       "+------------------------+------+\n",
       "| 0.0018915029672475962  |  1   |\n",
       "|  0.001260995864868164  |  2   |\n",
       "| 0.0008406639099121094  |  3   |\n",
       "| 0.0008406639099121094  |  4   |\n",
       "| 0.0008406639099121094  |  5   |\n",
       "| 0.0006305071023794321  |  6   |\n",
       "|  0.000630497932434082  |  7   |\n",
       "| 0.0003293202473567082  |  8   |\n",
       "| 0.00021016597747802734 |  9   |\n",
       "| 0.00021016597747802734 |  10  |\n",
       "+------------------------+------+\n",
       "[10 rows x 4 columns]"
      ]
     },
     "execution_count": 13,
     "metadata": {},
     "output_type": "execute_result"
    }
   ],
   "source": [
    "# Criando recomendações para o usuário selecionado\n",
    "item_content_recommender.recommend(users=['651fc761-7b29-490c-aefd-fe9b9bdd65c7'])"
   ]
  },
  {
   "cell_type": "code",
   "execution_count": 14,
   "id": "blank-macintosh",
   "metadata": {},
   "outputs": [
    {
     "name": "stdout",
     "output_type": "stream",
     "text": [
      "Applying transform:\n",
      "Class             : AutoVectorizer\n",
      "\n",
      "Model Fields\n",
      "------------\n",
      "Features          : ['UserID', 'ServiceUseByUser']\n",
      "Excluded Features : ['Service']\n",
      "\n",
      "Column            Type   Interpretation  Transforms  Output Type\n",
      "----------------  -----  --------------  ----------  -----------\n",
      "UserID            str    categorical     None        str        \n",
      "ServiceUseByUser  float  numerical       None        float      \n",
      "\n",
      "\n",
      "Defaulting to brute force instead of ball tree because there are multiple distance components.\n"
     ]
    },
    {
     "data": {
      "text/html": [
       "<pre>Starting brute force nearest neighbors model training.</pre>"
      ],
      "text/plain": [
       "Starting brute force nearest neighbors model training."
      ]
     },
     "metadata": {},
     "output_type": "display_data"
    },
    {
     "data": {
      "text/html": [
       "<pre>Validating distance components.</pre>"
      ],
      "text/plain": [
       "Validating distance components."
      ]
     },
     "metadata": {},
     "output_type": "display_data"
    },
    {
     "data": {
      "text/html": [
       "<pre>Initializing model data.</pre>"
      ],
      "text/plain": [
       "Initializing model data."
      ]
     },
     "metadata": {},
     "output_type": "display_data"
    },
    {
     "data": {
      "text/html": [
       "<pre>Initializing distances.</pre>"
      ],
      "text/plain": [
       "Initializing distances."
      ]
     },
     "metadata": {},
     "output_type": "display_data"
    },
    {
     "data": {
      "text/html": [
       "<pre>Done.</pre>"
      ],
      "text/plain": [
       "Done."
      ]
     },
     "metadata": {},
     "output_type": "display_data"
    },
    {
     "data": {
      "text/html": [
       "<pre>Starting pairwise querying.</pre>"
      ],
      "text/plain": [
       "Starting pairwise querying."
      ]
     },
     "metadata": {},
     "output_type": "display_data"
    },
    {
     "data": {
      "text/html": [
       "<pre>+--------------+---------+-------------+--------------+</pre>"
      ],
      "text/plain": [
       "+--------------+---------+-------------+--------------+"
      ]
     },
     "metadata": {},
     "output_type": "display_data"
    },
    {
     "data": {
      "text/html": [
       "<pre>| Query points | # Pairs | % Complete. | Elapsed Time |</pre>"
      ],
      "text/plain": [
       "| Query points | # Pairs | % Complete. | Elapsed Time |"
      ]
     },
     "metadata": {},
     "output_type": "display_data"
    },
    {
     "data": {
      "text/html": [
       "<pre>+--------------+---------+-------------+--------------+</pre>"
      ],
      "text/plain": [
       "+--------------+---------+-------------+--------------+"
      ]
     },
     "metadata": {},
     "output_type": "display_data"
    },
    {
     "data": {
      "text/html": [
       "<pre>| 1            | 36143   | 0.00276679  | 51.641ms     |</pre>"
      ],
      "text/plain": [
       "| 1            | 36143   | 0.00276679  | 51.641ms     |"
      ]
     },
     "metadata": {},
     "output_type": "display_data"
    },
    {
     "data": {
      "text/html": [
       "<pre>| 640          | 2.3e+07 | 1.77074     | 3.05s        |</pre>"
      ],
      "text/plain": [
       "| 640          | 2.3e+07 | 1.77074     | 3.05s        |"
      ]
     },
     "metadata": {},
     "output_type": "display_data"
    },
    {
     "data": {
      "text/html": [
       "<pre>| 1374         | 5e+07   | 3.80157     | 6.05s        |</pre>"
      ],
      "text/plain": [
       "| 1374         | 5e+07   | 3.80157     | 6.05s        |"
      ]
     },
     "metadata": {},
     "output_type": "display_data"
    },
    {
     "data": {
      "text/html": [
       "<pre>| 2053         | 7.4e+07 | 5.68021     | 9.05s        |</pre>"
      ],
      "text/plain": [
       "| 2053         | 7.4e+07 | 5.68021     | 9.05s        |"
      ]
     },
     "metadata": {},
     "output_type": "display_data"
    },
    {
     "data": {
      "text/html": [
       "<pre>| 2803         | 1e+08   | 7.75531     | 12.06s       |</pre>"
      ],
      "text/plain": [
       "| 2803         | 1e+08   | 7.75531     | 12.06s       |"
      ]
     },
     "metadata": {},
     "output_type": "display_data"
    },
    {
     "data": {
      "text/html": [
       "<pre>| 3524         | 1.3e+08 | 9.75016     | 15.05s       |</pre>"
      ],
      "text/plain": [
       "| 3524         | 1.3e+08 | 9.75016     | 15.05s       |"
      ]
     },
     "metadata": {},
     "output_type": "display_data"
    },
    {
     "data": {
      "text/html": [
       "<pre>| 4371         | 1.6e+08 | 12.0936     | 18.05s       |</pre>"
      ],
      "text/plain": [
       "| 4371         | 1.6e+08 | 12.0936     | 18.05s       |"
      ]
     },
     "metadata": {},
     "output_type": "display_data"
    },
    {
     "data": {
      "text/html": [
       "<pre>| 5151         | 1.9e+08 | 14.2517     | 21.05s       |</pre>"
      ],
      "text/plain": [
       "| 5151         | 1.9e+08 | 14.2517     | 21.05s       |"
      ]
     },
     "metadata": {},
     "output_type": "display_data"
    },
    {
     "data": {
      "text/html": [
       "<pre>| 5988         | 2.2e+08 | 16.5675     | 24.06s       |</pre>"
      ],
      "text/plain": [
       "| 5988         | 2.2e+08 | 16.5675     | 24.06s       |"
      ]
     },
     "metadata": {},
     "output_type": "display_data"
    },
    {
     "data": {
      "text/html": [
       "<pre>| 6864         | 2.5e+08 | 18.9912     | 27.06s       |</pre>"
      ],
      "text/plain": [
       "| 6864         | 2.5e+08 | 18.9912     | 27.06s       |"
      ]
     },
     "metadata": {},
     "output_type": "display_data"
    },
    {
     "data": {
      "text/html": [
       "<pre>| 7738         | 2.8e+08 | 21.4094     | 30.05s       |</pre>"
      ],
      "text/plain": [
       "| 7738         | 2.8e+08 | 21.4094     | 30.05s       |"
      ]
     },
     "metadata": {},
     "output_type": "display_data"
    },
    {
     "data": {
      "text/html": [
       "<pre>| 8265         | 3e+08   | 22.8675     | 33.06s       |</pre>"
      ],
      "text/plain": [
       "| 8265         | 3e+08   | 22.8675     | 33.06s       |"
      ]
     },
     "metadata": {},
     "output_type": "display_data"
    },
    {
     "data": {
      "text/html": [
       "<pre>| 8599         | 3.1e+08 | 23.7916     | 36.06s       |</pre>"
      ],
      "text/plain": [
       "| 8599         | 3.1e+08 | 23.7916     | 36.06s       |"
      ]
     },
     "metadata": {},
     "output_type": "display_data"
    },
    {
     "data": {
      "text/html": [
       "<pre>| 9071         | 3.3e+08 | 25.0975     | 39.06s       |</pre>"
      ],
      "text/plain": [
       "| 9071         | 3.3e+08 | 25.0975     | 39.06s       |"
      ]
     },
     "metadata": {},
     "output_type": "display_data"
    },
    {
     "data": {
      "text/html": [
       "<pre>| 9909         | 3.6e+08 | 27.4161     | 42.06s       |</pre>"
      ],
      "text/plain": [
       "| 9909         | 3.6e+08 | 27.4161     | 42.06s       |"
      ]
     },
     "metadata": {},
     "output_type": "display_data"
    },
    {
     "data": {
      "text/html": [
       "<pre>| 10770        | 3.9e+08 | 29.7983     | 45.06s       |</pre>"
      ],
      "text/plain": [
       "| 10770        | 3.9e+08 | 29.7983     | 45.06s       |"
      ]
     },
     "metadata": {},
     "output_type": "display_data"
    },
    {
     "data": {
      "text/html": [
       "<pre>| 11617        | 4.2e+08 | 32.1418     | 48.06s       |</pre>"
      ],
      "text/plain": [
       "| 11617        | 4.2e+08 | 32.1418     | 48.06s       |"
      ]
     },
     "metadata": {},
     "output_type": "display_data"
    },
    {
     "data": {
      "text/html": [
       "<pre>| 12481        | 4.5e+08 | 34.5323     | 51.06s       |</pre>"
      ],
      "text/plain": [
       "| 12481        | 4.5e+08 | 34.5323     | 51.06s       |"
      ]
     },
     "metadata": {},
     "output_type": "display_data"
    },
    {
     "data": {
      "text/html": [
       "<pre>| 13381        | 4.8e+08 | 37.0224     | 54.06s       |</pre>"
      ],
      "text/plain": [
       "| 13381        | 4.8e+08 | 37.0224     | 54.06s       |"
      ]
     },
     "metadata": {},
     "output_type": "display_data"
    },
    {
     "data": {
      "text/html": [
       "<pre>| 14077        | 5.1e+08 | 38.9481     | 57.08s       |</pre>"
      ],
      "text/plain": [
       "| 14077        | 5.1e+08 | 38.9481     | 57.08s       |"
      ]
     },
     "metadata": {},
     "output_type": "display_data"
    },
    {
     "data": {
      "text/html": [
       "<pre>| 14436        | 5.2e+08 | 39.9413     | 1m 0s        |</pre>"
      ],
      "text/plain": [
       "| 14436        | 5.2e+08 | 39.9413     | 1m 0s        |"
      ]
     },
     "metadata": {},
     "output_type": "display_data"
    },
    {
     "data": {
      "text/html": [
       "<pre>| 14813        | 5.4e+08 | 40.9844     | 1m 3s        |</pre>"
      ],
      "text/plain": [
       "| 14813        | 5.4e+08 | 40.9844     | 1m 3s        |"
      ]
     },
     "metadata": {},
     "output_type": "display_data"
    },
    {
     "data": {
      "text/html": [
       "<pre>| 15041        | 5.4e+08 | 41.6153     | 1m 6s        |</pre>"
      ],
      "text/plain": [
       "| 15041        | 5.4e+08 | 41.6153     | 1m 6s        |"
      ]
     },
     "metadata": {},
     "output_type": "display_data"
    },
    {
     "data": {
      "text/html": [
       "<pre>| 15444        | 5.6e+08 | 42.7303     | 1m 9s        |</pre>"
      ],
      "text/plain": [
       "| 15444        | 5.6e+08 | 42.7303     | 1m 9s        |"
      ]
     },
     "metadata": {},
     "output_type": "display_data"
    },
    {
     "data": {
      "text/html": [
       "<pre>| 15798        | 5.7e+08 | 43.7097     | 1m 12s       |</pre>"
      ],
      "text/plain": [
       "| 15798        | 5.7e+08 | 43.7097     | 1m 12s       |"
      ]
     },
     "metadata": {},
     "output_type": "display_data"
    },
    {
     "data": {
      "text/html": [
       "<pre>| 16219        | 5.9e+08 | 44.8745     | 1m 15s       |</pre>"
      ],
      "text/plain": [
       "| 16219        | 5.9e+08 | 44.8745     | 1m 15s       |"
      ]
     },
     "metadata": {},
     "output_type": "display_data"
    },
    {
     "data": {
      "text/html": [
       "<pre>| 16622        | 6e+08   | 45.9895     | 1m 18s       |</pre>"
      ],
      "text/plain": [
       "| 16622        | 6e+08   | 45.9895     | 1m 18s       |"
      ]
     },
     "metadata": {},
     "output_type": "display_data"
    },
    {
     "data": {
      "text/html": [
       "<pre>| 16938        | 6.1e+08 | 46.8638     | 1m 21s       |</pre>"
      ],
      "text/plain": [
       "| 16938        | 6.1e+08 | 46.8638     | 1m 21s       |"
      ]
     },
     "metadata": {},
     "output_type": "display_data"
    },
    {
     "data": {
      "text/html": [
       "<pre>| 17501        | 6.3e+08 | 48.4215     | 1m 24s       |</pre>"
      ],
      "text/plain": [
       "| 17501        | 6.3e+08 | 48.4215     | 1m 24s       |"
      ]
     },
     "metadata": {},
     "output_type": "display_data"
    },
    {
     "data": {
      "text/html": [
       "<pre>| 18278        | 6.6e+08 | 50.5713     | 1m 27s       |</pre>"
      ],
      "text/plain": [
       "| 18278        | 6.6e+08 | 50.5713     | 1m 27s       |"
      ]
     },
     "metadata": {},
     "output_type": "display_data"
    },
    {
     "data": {
      "text/html": [
       "<pre>| 18875        | 6.8e+08 | 52.2231     | 1m 30s       |</pre>"
      ],
      "text/plain": [
       "| 18875        | 6.8e+08 | 52.2231     | 1m 30s       |"
      ]
     },
     "metadata": {},
     "output_type": "display_data"
    },
    {
     "data": {
      "text/html": [
       "<pre>| 19634        | 7.1e+08 | 54.3231     | 1m 33s       |</pre>"
      ],
      "text/plain": [
       "| 19634        | 7.1e+08 | 54.3231     | 1m 33s       |"
      ]
     },
     "metadata": {},
     "output_type": "display_data"
    },
    {
     "data": {
      "text/html": [
       "<pre>| 20179        | 7.3e+08 | 55.831      | 1m 36s       |</pre>"
      ],
      "text/plain": [
       "| 20179        | 7.3e+08 | 55.831      | 1m 36s       |"
      ]
     },
     "metadata": {},
     "output_type": "display_data"
    },
    {
     "data": {
      "text/html": [
       "<pre>| 20535        | 7.4e+08 | 56.816      | 1m 39s       |</pre>"
      ],
      "text/plain": [
       "| 20535        | 7.4e+08 | 56.816      | 1m 39s       |"
      ]
     },
     "metadata": {},
     "output_type": "display_data"
    },
    {
     "data": {
      "text/html": [
       "<pre>| 20788        | 7.5e+08 | 57.516      | 1m 42s       |</pre>"
      ],
      "text/plain": [
       "| 20788        | 7.5e+08 | 57.516      | 1m 42s       |"
      ]
     },
     "metadata": {},
     "output_type": "display_data"
    },
    {
     "data": {
      "text/html": [
       "<pre>| 21018        | 7.6e+08 | 58.1523     | 1m 45s       |</pre>"
      ],
      "text/plain": [
       "| 21018        | 7.6e+08 | 58.1523     | 1m 45s       |"
      ]
     },
     "metadata": {},
     "output_type": "display_data"
    },
    {
     "data": {
      "text/html": [
       "<pre>| 21305        |         | 58.9464     | 1m 48s       |</pre>"
      ],
      "text/plain": [
       "| 21305        |         | 58.9464     | 1m 48s       |"
      ]
     },
     "metadata": {},
     "output_type": "display_data"
    },
    {
     "data": {
      "text/html": [
       "<pre>| 21537        | 7.8e+08 | 59.5883     | 1m 51s       |</pre>"
      ],
      "text/plain": [
       "| 21537        | 7.8e+08 | 59.5883     | 1m 51s       |"
      ]
     },
     "metadata": {},
     "output_type": "display_data"
    },
    {
     "data": {
      "text/html": [
       "<pre>| 21942        | 7.9e+08 | 60.7089     | 1m 54s       |</pre>"
      ],
      "text/plain": [
       "| 21942        | 7.9e+08 | 60.7089     | 1m 54s       |"
      ]
     },
     "metadata": {},
     "output_type": "display_data"
    },
    {
     "data": {
      "text/html": [
       "<pre>| 22489        | 8.1e+08 | 62.2223     | 1m 57s       |</pre>"
      ],
      "text/plain": [
       "| 22489        | 8.1e+08 | 62.2223     | 1m 57s       |"
      ]
     },
     "metadata": {},
     "output_type": "display_data"
    },
    {
     "data": {
      "text/html": [
       "<pre>| 23275        | 8.4e+08 | 64.397      | 2m 0s        |</pre>"
      ],
      "text/plain": [
       "| 23275        | 8.4e+08 | 64.397      | 2m 0s        |"
      ]
     },
     "metadata": {},
     "output_type": "display_data"
    },
    {
     "data": {
      "text/html": [
       "<pre>| 23929        | 8.6e+08 | 66.2065     | 2m 3s        |</pre>"
      ],
      "text/plain": [
       "| 23929        | 8.6e+08 | 66.2065     | 2m 3s        |"
      ]
     },
     "metadata": {},
     "output_type": "display_data"
    },
    {
     "data": {
      "text/html": [
       "<pre>| 24743        | 8.9e+08 | 68.4586     | 2m 6s        |</pre>"
      ],
      "text/plain": [
       "| 24743        | 8.9e+08 | 68.4586     | 2m 6s        |"
      ]
     },
     "metadata": {},
     "output_type": "display_data"
    },
    {
     "data": {
      "text/html": [
       "<pre>| 25563        | 9.2e+08 | 70.7274     | 2m 9s        |</pre>"
      ],
      "text/plain": [
       "| 25563        | 9.2e+08 | 70.7274     | 2m 9s        |"
      ]
     },
     "metadata": {},
     "output_type": "display_data"
    },
    {
     "data": {
      "text/html": [
       "<pre>| 26397        | 9.5e+08 | 73.0349     | 2m 12s       |</pre>"
      ],
      "text/plain": [
       "| 26397        | 9.5e+08 | 73.0349     | 2m 12s       |"
      ]
     },
     "metadata": {},
     "output_type": "display_data"
    },
    {
     "data": {
      "text/html": [
       "<pre>| 27157        | 9.8e+08 | 75.1376     | 2m 15s       |</pre>"
      ],
      "text/plain": [
       "| 27157        | 9.8e+08 | 75.1376     | 2m 15s       |"
      ]
     },
     "metadata": {},
     "output_type": "display_data"
    },
    {
     "data": {
      "text/html": [
       "<pre>| 27977        | 1e+09   | 77.4064     | 2m 18s       |</pre>"
      ],
      "text/plain": [
       "| 27977        | 1e+09   | 77.4064     | 2m 18s       |"
      ]
     },
     "metadata": {},
     "output_type": "display_data"
    },
    {
     "data": {
      "text/html": [
       "<pre>| 28797        | 1e+09   | 79.6752     | 2m 21s       |</pre>"
      ],
      "text/plain": [
       "| 28797        | 1e+09   | 79.6752     | 2m 21s       |"
      ]
     },
     "metadata": {},
     "output_type": "display_data"
    },
    {
     "data": {
      "text/html": [
       "<pre>| 29546        | 1.1e+09 | 81.7475     | 2m 24s       |</pre>"
      ],
      "text/plain": [
       "| 29546        | 1.1e+09 | 81.7475     | 2m 24s       |"
      ]
     },
     "metadata": {},
     "output_type": "display_data"
    },
    {
     "data": {
      "text/html": [
       "<pre>| 29985        | 1.1e+09 | 82.9621     | 2m 27s       |</pre>"
      ],
      "text/plain": [
       "| 29985        | 1.1e+09 | 82.9621     | 2m 27s       |"
      ]
     },
     "metadata": {},
     "output_type": "display_data"
    },
    {
     "data": {
      "text/html": [
       "<pre>| 30567        | 1.1e+09 | 84.5724     | 2m 30s       |</pre>"
      ],
      "text/plain": [
       "| 30567        | 1.1e+09 | 84.5724     | 2m 30s       |"
      ]
     },
     "metadata": {},
     "output_type": "display_data"
    },
    {
     "data": {
      "text/html": [
       "<pre>| 31393        | 1.1e+09 | 86.8578     | 2m 33s       |</pre>"
      ],
      "text/plain": [
       "| 31393        | 1.1e+09 | 86.8578     | 2m 33s       |"
      ]
     },
     "metadata": {},
     "output_type": "display_data"
    },
    {
     "data": {
      "text/html": [
       "<pre>| 31765        | 1.1e+09 | 87.887      | 2m 36s       |</pre>"
      ],
      "text/plain": [
       "| 31765        | 1.1e+09 | 87.887      | 2m 36s       |"
      ]
     },
     "metadata": {},
     "output_type": "display_data"
    },
    {
     "data": {
      "text/html": [
       "<pre>| 32070        | 1.2e+09 | 88.7309     | 2m 39s       |</pre>"
      ],
      "text/plain": [
       "| 32070        | 1.2e+09 | 88.7309     | 2m 39s       |"
      ]
     },
     "metadata": {},
     "output_type": "display_data"
    },
    {
     "data": {
      "text/html": [
       "<pre>| 32680        | 1.2e+09 | 90.4186     | 2m 42s       |</pre>"
      ],
      "text/plain": [
       "| 32680        | 1.2e+09 | 90.4186     | 2m 42s       |"
      ]
     },
     "metadata": {},
     "output_type": "display_data"
    },
    {
     "data": {
      "text/html": [
       "<pre>| 32994        | 1.2e+09 | 91.2874     | 2m 45s       |</pre>"
      ],
      "text/plain": [
       "| 32994        | 1.2e+09 | 91.2874     | 2m 45s       |"
      ]
     },
     "metadata": {},
     "output_type": "display_data"
    },
    {
     "data": {
      "text/html": [
       "<pre>| 33329        | 1.2e+09 | 92.2143     | 2m 48s       |</pre>"
      ],
      "text/plain": [
       "| 33329        | 1.2e+09 | 92.2143     | 2m 48s       |"
      ]
     },
     "metadata": {},
     "output_type": "display_data"
    },
    {
     "data": {
      "text/html": [
       "<pre>| 33761        | 1.2e+09 | 93.4095     | 2m 51s       |</pre>"
      ],
      "text/plain": [
       "| 33761        | 1.2e+09 | 93.4095     | 2m 51s       |"
      ]
     },
     "metadata": {},
     "output_type": "display_data"
    },
    {
     "data": {
      "text/html": [
       "<pre>| 34310        | 1.2e+09 | 94.9285     | 2m 54s       |</pre>"
      ],
      "text/plain": [
       "| 34310        | 1.2e+09 | 94.9285     | 2m 54s       |"
      ]
     },
     "metadata": {},
     "output_type": "display_data"
    },
    {
     "data": {
      "text/html": [
       "<pre>| 34752        | 1.3e+09 | 96.1514     | 2m 57s       |</pre>"
      ],
      "text/plain": [
       "| 34752        | 1.3e+09 | 96.1514     | 2m 57s       |"
      ]
     },
     "metadata": {},
     "output_type": "display_data"
    },
    {
     "data": {
      "text/html": [
       "<pre>| 35072        | 1.3e+09 | 97.0368     | 3m 0s        |</pre>"
      ],
      "text/plain": [
       "| 35072        | 1.3e+09 | 97.0368     | 3m 0s        |"
      ]
     },
     "metadata": {},
     "output_type": "display_data"
    },
    {
     "data": {
      "text/html": [
       "<pre>| 35920        | 1.3e+09 | 99.383      | 3m 3s        |</pre>"
      ],
      "text/plain": [
       "| 35920        | 1.3e+09 | 99.383      | 3m 3s        |"
      ]
     },
     "metadata": {},
     "output_type": "display_data"
    },
    {
     "data": {
      "text/html": [
       "<pre>| Done         |         | 100         | 3m 4s        |</pre>"
      ],
      "text/plain": [
       "| Done         |         | 100         | 3m 4s        |"
      ]
     },
     "metadata": {},
     "output_type": "display_data"
    },
    {
     "data": {
      "text/html": [
       "<pre>+--------------+---------+-------------+--------------+</pre>"
      ],
      "text/plain": [
       "+--------------+---------+-------------+--------------+"
      ]
     },
     "metadata": {},
     "output_type": "display_data"
    },
    {
     "data": {
      "text/html": [
       "<pre>Preparing data set.</pre>"
      ],
      "text/plain": [
       "Preparing data set."
      ]
     },
     "metadata": {},
     "output_type": "display_data"
    },
    {
     "data": {
      "text/html": [
       "<pre>    Data has 36143 observations with 22181 users and 48 items.</pre>"
      ],
      "text/plain": [
       "    Data has 36143 observations with 22181 users and 48 items."
      ]
     },
     "metadata": {},
     "output_type": "display_data"
    },
    {
     "data": {
      "text/html": [
       "<pre>    Data prepared in: 2.27551s</pre>"
      ],
      "text/plain": [
       "    Data prepared in: 2.27551s"
      ]
     },
     "metadata": {},
     "output_type": "display_data"
    },
    {
     "data": {
      "text/html": [
       "<pre>Loading user-provided nearest items.</pre>"
      ],
      "text/plain": [
       "Loading user-provided nearest items."
      ]
     },
     "metadata": {},
     "output_type": "display_data"
    },
    {
     "data": {
      "text/html": [
       "<pre>Generating candidate set for working with new users.</pre>"
      ],
      "text/plain": [
       "Generating candidate set for working with new users."
      ]
     },
     "metadata": {},
     "output_type": "display_data"
    },
    {
     "data": {
      "text/html": [
       "<pre>Finished training in 0.097423s</pre>"
      ],
      "text/plain": [
       "Finished training in 0.097423s"
      ]
     },
     "metadata": {},
     "output_type": "display_data"
    },
    {
     "name": "stdout",
     "output_type": "stream",
     "text": [
      "\n",
      "Precision and recall summary statistics by cutoff\n",
      "+--------+----------------+-------------+\n",
      "| cutoff | mean_precision | mean_recall |\n",
      "+--------+----------------+-------------+\n",
      "|   1    |      0.0       |     0.0     |\n",
      "|   2    |      0.0       |     0.0     |\n",
      "|   3    |      0.0       |     0.0     |\n",
      "|   4    |      0.0       |     0.0     |\n",
      "|   5    |      0.0       |     0.0     |\n",
      "|   6    |      0.0       |     0.0     |\n",
      "|   7    |      0.0       |     0.0     |\n",
      "|   8    |      0.0       |     0.0     |\n",
      "|   9    |      0.0       |     0.0     |\n",
      "|   10   |      0.0       |     0.0     |\n",
      "+--------+----------------+-------------+\n",
      "[10 rows x 3 columns]\n",
      "\n",
      "\n",
      "Overall RMSE: 0.10493911344659498\n",
      "\n",
      "Per User RMSE (best)\n",
      "+-------------------------------+------+-------+\n",
      "|             UserID            | rmse | count |\n",
      "+-------------------------------+------+-------+\n",
      "| 67643a62-44e0-4e16-befc-6b... | 0.0  |   1   |\n",
      "+-------------------------------+------+-------+\n",
      "[1 rows x 3 columns]\n",
      "\n",
      "\n",
      "Per User RMSE (worst)\n",
      "+-------------------------------+--------------------+-------+\n",
      "|             UserID            |        rmse        | count |\n",
      "+-------------------------------+--------------------+-------+\n",
      "| 06508733-bc28-4564-8bca-e4... | 0.9125681653048823 |   1   |\n",
      "+-------------------------------+--------------------+-------+\n",
      "[1 rows x 3 columns]\n",
      "\n",
      "\n",
      "Per Item RMSE (best)\n",
      "+---------------------+------+-------+\n",
      "|       Service       | rmse | count |\n",
      "+---------------------+------+-------+\n",
      "| AGRMapaDeProdutores | 0.0  |   1   |\n",
      "+---------------------+------+-------+\n",
      "[1 rows x 3 columns]\n",
      "\n",
      "\n",
      "Per Item RMSE (worst)\n",
      "+---------------+--------------------+-------+\n",
      "|    Service    |        rmse        | count |\n",
      "+---------------+--------------------+-------+\n",
      "| TESTECAgendar | 0.2002834854720659 |   76  |\n",
      "+---------------+--------------------+-------+\n",
      "[1 rows x 3 columns]\n",
      "\n"
     ]
    },
    {
     "data": {
      "text/plain": [
       "{'precision_recall_by_user': Columns:\n",
       " \tUserID\tstr\n",
       " \tcutoff\tint\n",
       " \tprecision\tfloat\n",
       " \trecall\tfloat\n",
       " \tcount\tint\n",
       " \n",
       " Rows: 5166\n",
       " \n",
       " Data:\n",
       " +-------------------------------+--------+-----------+--------+-------+\n",
       " |             UserID            | cutoff | precision | recall | count |\n",
       " +-------------------------------+--------+-----------+--------+-------+\n",
       " | 0094d15c-9e05-4819-a7ac-d4... |   1    |    0.0    |  0.0   |   1   |\n",
       " | 0094d15c-9e05-4819-a7ac-d4... |   2    |    0.0    |  0.0   |   1   |\n",
       " | 0094d15c-9e05-4819-a7ac-d4... |   3    |    0.0    |  0.0   |   1   |\n",
       " | 0094d15c-9e05-4819-a7ac-d4... |   4    |    0.0    |  0.0   |   1   |\n",
       " | 0094d15c-9e05-4819-a7ac-d4... |   5    |    0.0    |  0.0   |   1   |\n",
       " | 0094d15c-9e05-4819-a7ac-d4... |   6    |    0.0    |  0.0   |   1   |\n",
       " | 0094d15c-9e05-4819-a7ac-d4... |   7    |    0.0    |  0.0   |   1   |\n",
       " | 0094d15c-9e05-4819-a7ac-d4... |   8    |    0.0    |  0.0   |   1   |\n",
       " | 0094d15c-9e05-4819-a7ac-d4... |   9    |    0.0    |  0.0   |   1   |\n",
       " | 0094d15c-9e05-4819-a7ac-d4... |   10   |    0.0    |  0.0   |   1   |\n",
       " +-------------------------------+--------+-----------+--------+-------+\n",
       " [5166 rows x 5 columns]\n",
       " Note: Only the head of the SFrame is printed.\n",
       " You can use print_rows(num_rows=m, num_columns=n) to print more rows and columns.,\n",
       " 'precision_recall_overall': Columns:\n",
       " \tcutoff\tint\n",
       " \tprecision\tfloat\n",
       " \trecall\tfloat\n",
       " \n",
       " Rows: 18\n",
       " \n",
       " Data:\n",
       " +--------+-----------+--------+\n",
       " | cutoff | precision | recall |\n",
       " +--------+-----------+--------+\n",
       " |   1    |    0.0    |  0.0   |\n",
       " |   2    |    0.0    |  0.0   |\n",
       " |   3    |    0.0    |  0.0   |\n",
       " |   4    |    0.0    |  0.0   |\n",
       " |   5    |    0.0    |  0.0   |\n",
       " |   6    |    0.0    |  0.0   |\n",
       " |   7    |    0.0    |  0.0   |\n",
       " |   8    |    0.0    |  0.0   |\n",
       " |   9    |    0.0    |  0.0   |\n",
       " |   10   |    0.0    |  0.0   |\n",
       " +--------+-----------+--------+\n",
       " [18 rows x 3 columns]\n",
       " Note: Only the head of the SFrame is printed.\n",
       " You can use print_rows(num_rows=m, num_columns=n) to print more rows and columns.,\n",
       " 'rmse_by_user': Columns:\n",
       " \tUserID\tstr\n",
       " \trmse\tfloat\n",
       " \tcount\tint\n",
       " \n",
       " Rows: 287\n",
       " \n",
       " Data:\n",
       " +-------------------------------+----------------------+-------+\n",
       " |             UserID            |         rmse         | count |\n",
       " +-------------------------------+----------------------+-------+\n",
       " | b8096551-9c7c-4691-90fb-df... |         0.0          |   1   |\n",
       " | 10483a31-623b-441d-864d-94... |  0.3005462422396967  |   1   |\n",
       " | 6b51c21c-a75c-473b-9645-7e... |         0.0          |   1   |\n",
       " | 1feb6c95-deb1-4edb-a78a-94... | 0.00273224043715847  |   1   |\n",
       " | ae1d2d11-23be-4fd6-afe8-3b... |         0.0          |   1   |\n",
       " | c9dcf878-c600-4a46-b4f5-96... | 0.005464480874316941 |   1   |\n",
       " | 7786984e-08bf-4873-841d-98... | 0.013661202185792351 |   1   |\n",
       " | dae6dfcc-b2be-4b7b-b6f4-bc... |         0.0          |   2   |\n",
       " | bd07ae90-0080-42f8-a672-01... | 0.29872503925542365  |   1   |\n",
       " | 70bf0974-cf2d-4e59-ad21-39... |         0.0          |   1   |\n",
       " +-------------------------------+----------------------+-------+\n",
       " [287 rows x 3 columns]\n",
       " Note: Only the head of the SFrame is printed.\n",
       " You can use print_rows(num_rows=m, num_columns=n) to print more rows and columns.,\n",
       " 'rmse_by_item': Columns:\n",
       " \tService\tstr\n",
       " \trmse\tfloat\n",
       " \tcount\tint\n",
       " \n",
       " Rows: 27\n",
       " \n",
       " Data:\n",
       " +----------------------------+-----------------------+-------+\n",
       " |          Service           |          rmse         | count |\n",
       " +----------------------------+-----------------------+-------+\n",
       " |      DETCNHDefinitiva      |  0.01408885959950772  |   17  |\n",
       " |      CAGFaturaDigital      |  0.010454231982154833 |   8   |\n",
       " | CAGDeslocamentodoRegistro  | 0.0025759732341373324 |   2   |\n",
       " |      TESTECResultado       |  0.06718249059444506  |   49  |\n",
       " |   SUANOTAJaSouCadastrado   |   0.0620378397477559  |   28  |\n",
       " | CAGAlteracaodeTitularidade |  0.005162967371575509 |   7   |\n",
       " |   ACESSOJaSouCadastrado    |  0.00997351426460317  |   10  |\n",
       " |      DETRenovacaoCNH       |  0.010787551525662988 |   21  |\n",
       " |  CAGVerificacaodeConsumo   |          0.0          |   1   |\n",
       " |  OUVIDORReclameConsultar   |          0.0          |   1   |\n",
       " +----------------------------+-----------------------+-------+\n",
       " [27 rows x 3 columns]\n",
       " Note: Only the head of the SFrame is printed.\n",
       " You can use print_rows(num_rows=m, num_columns=n) to print more rows and columns.,\n",
       " 'rmse_overall': 0.10493911344659498}"
      ]
     },
     "execution_count": 14,
     "metadata": {},
     "output_type": "execute_result"
    }
   ],
   "source": [
    "# Model Evaluation using TuricCreate metrics\n",
    "train, test = tc.recommender.util.random_split_by_user(userServiceCountScaledSFrame, user_id='UserID', item_id='Service')\n",
    "item_content_recommender = tc.recommender.item_content_recommender.create(item_data=userServiceCountScaledSFrame, item_id='Service', observation_data=userServiceCountScaledSFrame, user_id='UserID', target='ServiceUseByUser', verbose = True)\n",
    "eval = item_content_recommender.evaluate(test)\n",
    "eval"
   ]
  }
 ],
 "metadata": {
  "kernelspec": {
   "display_name": "Python 3",
   "language": "python",
   "name": "python3"
  },
  "language_info": {
   "codemirror_mode": {
    "name": "ipython",
    "version": 3
   },
   "file_extension": ".py",
   "mimetype": "text/x-python",
   "name": "python",
   "nbconvert_exporter": "python",
   "pygments_lexer": "ipython3",
   "version": "3.8.5"
  }
 },
 "nbformat": 4,
 "nbformat_minor": 5
}